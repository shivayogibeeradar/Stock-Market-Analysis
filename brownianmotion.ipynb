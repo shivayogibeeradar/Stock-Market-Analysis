{
 "cells": [
  {
   "cell_type": "code",
   "execution_count": 1,
   "metadata": {
    "collapsed": true
   },
   "outputs": [],
   "source": [
    "import urllib2  \n",
    "from bs4 import BeautifulSoup  "
   ]
  },
  {
   "cell_type": "code",
   "execution_count": 2,
   "metadata": {
    "collapsed": true
   },
   "outputs": [],
   "source": [
    "ticker = 'AAPL'\n",
    "ticker1 = 'GE'\n",
    "ticker2 = 'VZ'\n",
    "ticker3 = 'RGLD'"
   ]
  },
  {
   "cell_type": "code",
   "execution_count": 3,
   "metadata": {
    "collapsed": true
   },
   "outputs": [],
   "source": [
    "quote_page = 'https://finance.yahoo.com/quote/'+ticker+'/key-statistics?p='+ticker\n",
    "quote_page1 = 'https://finance.yahoo.com/quote/'+ticker1+'/key-statistics?p='+ticker1\n",
    "quote_page2 = 'https://finance.yahoo.com/quote/'+ticker2+'/key-statistics?p='+ticker2\n",
    "quote_page3 = 'https://finance.yahoo.com/quote/'+ticker3+'/key-statistics?p='+ticker3"
   ]
  },
  {
   "cell_type": "code",
   "execution_count": 4,
   "metadata": {
    "collapsed": true
   },
   "outputs": [],
   "source": [
    "page = urllib2.urlopen(quote_page)\n",
    "page1 = urllib2.urlopen(quote_page1) \n",
    "page2 = urllib2.urlopen(quote_page2) \n",
    "page3 = urllib2.urlopen(quote_page3) "
   ]
  },
  {
   "cell_type": "code",
   "execution_count": 5,
   "metadata": {
    "collapsed": true
   },
   "outputs": [],
   "source": [
    "soup = BeautifulSoup(page, 'html.parser')  \n",
    "soup1 = BeautifulSoup(page1, 'html.parser')  \n",
    "soup2 = BeautifulSoup(page2, 'html.parser')  \n",
    "soup3 = BeautifulSoup(page3, 'html.parser')  "
   ]
  },
  {
   "cell_type": "code",
   "execution_count": 6,
   "metadata": {
    "collapsed": true
   },
   "outputs": [],
   "source": [
    "name_box = soup.find('h1', attrs={'class': 'D(ib) Fz(18px)'})  \n",
    "name_box1 = soup1.find('h1', attrs={'class': 'D(ib) Fz(18px)'})  \n",
    "name_box2 = soup2.find('h1', attrs={'class': 'D(ib) Fz(18px)'})  \n",
    "name_box3 = soup3.find('h1', attrs={'class': 'D(ib) Fz(18px)'})  "
   ]
  },
  {
   "cell_type": "code",
   "execution_count": 7,
   "metadata": {
    "collapsed": false
   },
   "outputs": [
    {
     "name": "stdout",
     "output_type": "stream",
     "text": [
      "Apple Inc. (AAPL)\n",
      "General Electric Company (GE)\n",
      "Verizon Communications Inc. (VZ)\n",
      "Royal Gold, Inc. (RGLD)\n"
     ]
    }
   ],
   "source": [
    "name = name_box.text.strip()\n",
    "name1 = name_box1.text.strip()\n",
    "name2 = name_box2.text.strip()\n",
    "name3 = name_box3.text.strip()\n",
    "\n",
    "print name\n",
    "print name1\n",
    "print name2\n",
    "print name3"
   ]
  },
  {
   "cell_type": "code",
   "execution_count": 8,
   "metadata": {
    "collapsed": false
   },
   "outputs": [
    {
     "name": "stdout",
     "output_type": "stream",
     "text": [
      "109.86\n",
      "31.34\n",
      "49.81\n",
      "70.72\n"
     ]
    }
   ],
   "source": [
    "# get the index price\n",
    "price_box = soup.find('span', attrs={'class':'Fw(b) Fz(36px) Mb(-4px)'})  \n",
    "price = price_box.text  \n",
    "\n",
    "price_box1 = soup1.find('span', attrs={'class':'Fw(b) Fz(36px) Mb(-4px)'})  \n",
    "price1 = price_box1.text  \n",
    "\n",
    "price_box2 = soup2.find('span', attrs={'class':'Fw(b) Fz(36px) Mb(-4px)'})  \n",
    "price2 = price_box2.text  \n",
    "\n",
    "price_box3 = soup3.find('span', attrs={'class':'Fw(b) Fz(36px) Mb(-4px)'})  \n",
    "price3 = price_box3.text  \n",
    "\n",
    "print price \n",
    "print price1 \n",
    "print price2 \n",
    "print price3 "
   ]
  },
  {
   "cell_type": "code",
   "execution_count": 9,
   "metadata": {
    "collapsed": false
   },
   "outputs": [
    {
     "name": "stderr",
     "output_type": "stream",
     "text": [
      "C:\\Users\\Dennis\\AppData\\Local\\Enthought\\Canopy\\User\\lib\\site-packages\\ipykernel\\__main__.py:26: DeprecationWarning:\n",
      "\n",
      "using a non-integer number instead of an integer will result in an error in the future\n",
      "\n"
     ]
    }
   ],
   "source": [
    "#N_sim: N of simulations\n",
    "#T: Time\n",
    "#dt: step length\n",
    "#beta: stock's beta, meassure of volatility\n",
    "#mu: drift terms (moving average or long-term mean for stock returns)\n",
    "#S0: initial stock price\n",
    "\n",
    "\n",
    "from numpy.random import standard_normal\n",
    "from numpy import array, zeros, sqrt, shape\n",
    "from pylab import *\n",
    "import numpy as np\n",
    "import matplotlib.pyplot as plt\n",
    "import plotly.plotly as py\n",
    "import plotly.graph_objs as go\n",
    "\n",
    "S0 = price\n",
    "\n",
    "T = 1\n",
    "dt = 0.083333\n",
    "beta = 1.5\n",
    "mu = -0.0584\n",
    "N_Sim = 25\n",
    "\n",
    "Steps=round(T/dt); #Steps in years\n",
    "S = zeros([N_Sim, Steps], dtype=float)\n",
    "x = range(0, int(Steps), 1)\n",
    "\n",
    "for j in range(0, N_Sim, 1):\n",
    "        S[j,0]= S0\n",
    "        for i in x[:-1]:\n",
    "                S[j,i+1]=S[j,i]+S[j,i]*(mu-0.5*pow(beta,2))*dt+beta*S[j,i]*sqrt(dt)*standard_normal();\n",
    "        lines = plt.plot(x, S[j])\n",
    "        plt.setp(lines, color='b', linewidth=0.5, linestyle='--')\n",
    "lines = plt.plot(np.unique(x), np.poly1d(np.polyfit(x, S[j], 1))(np.unique(x)))\n",
    "plt.setp(lines, color='r', linewidth=4)\n",
    "\n",
    "title('Brownian Motion of '+ name)\n",
    "xlabel('Months')\n",
    "ylabel('Stock price')\n",
    "show()"
   ]
  },
  {
   "cell_type": "code",
   "execution_count": 10,
   "metadata": {
    "collapsed": false
   },
   "outputs": [
    {
     "name": "stderr",
     "output_type": "stream",
     "text": [
      "C:\\Users\\Dennis\\AppData\\Local\\Enthought\\Canopy\\User\\lib\\site-packages\\ipykernel\\__main__.py:10: DeprecationWarning:\n",
      "\n",
      "using a non-integer number instead of an integer will result in an error in the future\n",
      "\n"
     ]
    }
   ],
   "source": [
    "S01 = price1\n",
    "\n",
    "T1 = 1\n",
    "dt1 = 0.083333\n",
    "beta1 = 1.2\n",
    "mu1 = 0.0453\n",
    "N_Sim1 = 25\n",
    "\n",
    "Steps1=round(T1/dt1); #Steps in years\n",
    "S1 = zeros([N_Sim1, Steps1], dtype=float)\n",
    "x1 = range(0, int(Steps1), 1)\n",
    "\n",
    "#i=a\n",
    "#j=b\n",
    "c=x\n",
    "for b in range(0, N_Sim1, 1):\n",
    "        S[b,0]= S01\n",
    "        for a in c[:-1]:\n",
    "                S[b,a+1]=S[b,a]+S[b,a]*(mu1-0.5*pow(beta1,2))*dt1+beta1*S[b,a]*sqrt(dt1)*standard_normal();\n",
    "        lines = plt.plot(c, S[b])\n",
    "        plt.setp(lines, color='b', linewidth=0.5, linestyle='--')\n",
    "lines = plt.plot(np.unique(c), np.poly1d(np.polyfit(c, S[b], 1))(np.unique(c)))\n",
    "plt.setp(lines, color='r', linewidth=4)\n",
    "\n",
    "title('Brownian Motion of '+ name1)\n",
    "xlabel('Months')\n",
    "ylabel('Stock price')\n",
    "show()"
   ]
  },
  {
   "cell_type": "code",
   "execution_count": 11,
   "metadata": {
    "collapsed": false
   },
   "outputs": [
    {
     "name": "stderr",
     "output_type": "stream",
     "text": [
      "C:\\Users\\Dennis\\AppData\\Local\\Enthought\\Canopy\\User\\lib\\site-packages\\ipykernel\\__main__.py:10: DeprecationWarning:\n",
      "\n",
      "using a non-integer number instead of an integer will result in an error in the future\n",
      "\n"
     ]
    }
   ],
   "source": [
    "S02 = price2\n",
    "\n",
    "T2 = 1\n",
    "dt2 = 0.083333\n",
    "beta2 = 0.51\n",
    "mu2 = 0.1192\n",
    "N_Sim2 = 25\n",
    "\n",
    "Steps2=round(T2/dt2); #Steps in years\n",
    "S2 = zeros([N_Sim2, Steps2], dtype=float)\n",
    "x2 = range(0, int(Steps2), 1)\n",
    "\n",
    "for j in range(0, N_Sim2, 1):\n",
    "        S[j,0]= S02\n",
    "        for i in x[:-1]:\n",
    "                S[j,i+1]=S[j,i]+S[j,i]*(mu2-0.5*pow(beta2,2))*dt2+beta2*S[j,i]*sqrt(dt2)*standard_normal();\n",
    "        lines = plt.plot(x, S[j])\n",
    "        plt.setp(lines, color='b', linewidth=0.5, linestyle='--')\n",
    "lines = plt.plot(np.unique(x), np.poly1d(np.polyfit(x, S[j], 1))(np.unique(x)))\n",
    "plt.setp(lines, color='r', linewidth=4)\n",
    "\n",
    "title('Brownian Motion of '+ name2)\n",
    "xlabel('Months')\n",
    "ylabel('Stock price')\n",
    "show()"
   ]
  },
  {
   "cell_type": "code",
   "execution_count": 15,
   "metadata": {
    "collapsed": false
   },
   "outputs": [
    {
     "name": "stderr",
     "output_type": "stream",
     "text": [
      "C:\\Users\\Dennis\\AppData\\Local\\Enthought\\Canopy\\User\\lib\\site-packages\\ipykernel\\__main__.py:10: DeprecationWarning:\n",
      "\n",
      "using a non-integer number instead of an integer will result in an error in the future\n",
      "\n"
     ]
    }
   ],
   "source": [
    "S03 = price3\n",
    "\n",
    "T3 = 1\n",
    "dt3 = 0.083333\n",
    "beta3 = 0.72\n",
    "mu3 = 0.8637\n",
    "N_Sim3 = 25\n",
    "\n",
    "Steps3=round(T3/dt3); #Steps in years\n",
    "S3 = zeros([N_Sim3, Steps3], dtype=float)\n",
    "x3 = range(0, int(Steps3), 1)\n",
    "\n",
    "for j in range(0, N_Sim3, 1):\n",
    "        S[j,0]= S03\n",
    "        for i in x[:-1]:\n",
    "                S[j,i+1]=S[j,i]+S[j,i]*(mu3-0.5*pow(beta3,2))*dt3+beta3*S[j,i]*sqrt(dt3)*standard_normal();\n",
    "        lines = plt.plot(x, S[j])\n",
    "        plt.setp(lines, color='b', linewidth=0.5, linestyle='--')\n",
    "lines = plt.plot(np.unique(x), np.poly1d(np.polyfit(x, S[j], 1))(np.unique(x)))\n",
    "plt.setp(lines, color='r', linewidth=4)\n",
    "\n",
    "title('Brownian Motion of '+ name3)\n",
    "xlabel('Months')\n",
    "ylabel('Stock price')\n",
    "show()"
   ]
  },
  {
   "cell_type": "code",
   "execution_count": null,
   "metadata": {
    "collapsed": true
   },
   "outputs": [],
   "source": []
  }
 ],
 "metadata": {
  "kernelspec": {
   "display_name": "Python 2",
   "language": "python",
   "name": "python2"
  },
  "language_info": {
   "codemirror_mode": {
    "name": "ipython",
    "version": 2
   },
   "file_extension": ".py",
   "mimetype": "text/x-python",
   "name": "python",
   "nbconvert_exporter": "python",
   "pygments_lexer": "ipython2",
   "version": "2.7.11"
  }
 },
 "nbformat": 4,
 "nbformat_minor": 0
}
